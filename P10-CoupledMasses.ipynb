{
 "cells": [
  {
   "cell_type": "markdown",
   "metadata": {},
   "source": [
    "Eigenvectors\n",
    "============\n",
    "\n",
    "This week we'll be studying the idea of eigenvectors of a matrix. The physical context will be the oscillation of a pair of masses coupled by springs. See the slides for details! There are two separate implementations here:\n",
    "\n",
    "1. A VPython version (read the comments and execute the corresponding cells)\n",
    "\n",
    "2. A numpy/matplotlib version (again, read the comments and execute the appropriate cells)\n",
    "\n"
   ]
  },
  {
   "cell_type": "code",
   "execution_count": 1,
   "metadata": {},
   "outputs": [],
   "source": [
    "USE_VISUAL=False"
   ]
  },
  {
   "cell_type": "code",
   "execution_count": 2,
   "metadata": {},
   "outputs": [],
   "source": [
    "#\n",
    "# Either use this cell, in which case you will be using VPython \n",
    "# Note: VPython only works if you have it installed on your local\n",
    "# computer. Also, stopping a VPython simulation appears to restart the kernel. Save first!\n",
    "#\n",
    "import numpy as np\n",
    "\n",
    "if USE_VISUAL:    \n",
    "    import vpython as vp\n"
   ]
  },
  {
   "cell_type": "code",
   "execution_count": 3,
   "metadata": {},
   "outputs": [],
   "source": [
    "#\n",
    "# Or use this one, in which case you will be using pylab\n",
    "#\n",
    "\n",
    "if not USE_VISUAL:\n",
    "    %matplotlib inline\n",
    "    import matplotlib.pyplot as pl"
   ]
  },
  {
   "cell_type": "code",
   "execution_count": 4,
   "metadata": {},
   "outputs": [],
   "source": [
    "#\n",
    "# Basic functions and definitions used by VPython and pylab versions\n",
    "#\n",
    "\n",
    "L=10\n",
    "kb=10.0\n",
    "ks=1.0\n",
    "m=1.0\n",
    "dt=0.03\n",
    "t=0.0\n",
    "\n",
    "#\n",
    "# Note that these displacements do *not* match an eigenvector, so the resulting\n",
    "# motion (frequency) is a superposition of two eigenvalues (frequencies)\n",
    "# What happens when you initialize the displacements with an eigenvector?\n",
    "#\n",
    "\n",
    "x1i=0.4*L/10  # initial displacement from equil, m1\n",
    "v1i=0.0   # initial vel, m1\n",
    "x2i=1.0*L/10  # initial displacement from equil, m2\n",
    "v2i=0.0   # initial vel, m2\n",
    "\n",
    "s=np.array([x1i,v1i,x2i,v2i]) # initial state\n",
    "\n",
    "def derivs_2m(s, t):\n",
    "    x1=s[0]   # get the variables from the state\n",
    "    v1=s[1]\n",
    "    x2=s[2]\n",
    "    v2=s[3]\n",
    "    a1 = (-(kb+ks)*x1 + ks*x2)/m\n",
    "    a2 = (-(kb+ks)*x2 + ks*x1)/m\n",
    "    return np.array([v1, a1, v2, a2])\n",
    "    \n",
    "def RK4Step(s, dt, t, derivs):\n",
    "    \"\"\"\n",
    "    Take a single RK4 step.\n",
    "    \"\"\"\n",
    "    f1 = derivs(s, t)\n",
    "    f2 = derivs(s+f1*dt/2.0, t+dt/2.0)\n",
    "    f3 = derivs(s+f2*dt/2.0, t+dt/2.0)\n",
    "    f4 = derivs(s+f3*dt, t+dt)\n",
    "    return s + (f1+2*f2+2*f3+f4)*dt/6.0\n"
   ]
  },
  {
   "cell_type": "code",
   "execution_count": 5,
   "metadata": {},
   "outputs": [],
   "source": [
    "#\n",
    "# VPython: Simulation of 2 coupled masses on springs.\n",
    "#\n",
    "if USE_VISUAL:\n",
    "\n",
    "    vp.canvas()\n",
    "    \n",
    "    wallLeft = vp.box(pos=vp.vec(-L,0,0), height=L/2, width=L/2, length=L/10, color=vp.color.green)\n",
    "    wallRight = vp.box(pos=vp.vec(L,0,0), height=L/2, width=L/2, length=L/10, color=vp.color.green)\n",
    "    \n",
    "    m1 = vp.box(pos=vp.vec(-L/3,0,0), height=L/5, width=L/5, length=L/5, color=vp.color.red)\n",
    "    m2 = vp.box(pos=vp.vec(+L/3,0,0), height=L/5, width=L/5, length=L/5, color=vp.color.red)\n",
    "    \n",
    "    vWall=vp.vector(wallLeft.length/2,0,0)  # sorta like axis of wallLeft?\n",
    "    vMass=vp.vector(m1.length/2,0,0)        # same for the masses\n",
    "    \n",
    "    s1 = vp.helix(pos=wallLeft.pos+vWall, axis=(m1.pos-vMass)-(wallLeft.pos+vWall), radius=0.5)\n",
    "    s2 = vp.helix(pos=m1.pos+vMass, axis=(m2.pos-vMass)-(m1.pos+vMass), radius=0.5)\n",
    "    s3 = vp.helix(pos=m2.pos+vMass, axis=(wallRight.pos-vWall)-(m2.pos+vMass), radius=0.5)\n",
    "    \n",
    "    x10=m1.pos.x  # equilibrium pos of m1\n",
    "    x20=m2.pos.x  # equilibrium pos of m2"
   ]
  },
  {
   "cell_type": "code",
   "execution_count": 6,
   "metadata": {},
   "outputs": [],
   "source": [
    "#\n",
    "# VPython: Simulation of 2 coupled masses on springs.\n",
    "#\n",
    "if USE_VISUAL:\n",
    "\n",
    "    def updateScreen(s):\n",
    "        x1=s[0]   # get the variables from the state\n",
    "        v1=s[1]\n",
    "        x2=s[2]\n",
    "        v2=s[3]\n",
    "    \n",
    "        m1.pos.x = x10+x1  # update mass positions\n",
    "        m2.pos.x = x20+x2\n",
    "        \n",
    "        #\n",
    "        # now just update spring positions and axes\n",
    "        #\n",
    "        \n",
    "        s1.axis = (m1.pos-vMass)-(wallLeft.pos+vWall)\n",
    "        s2.pos = m1.pos+vMass\n",
    "        s2.axis = (m2.pos-vMass)-(m1.pos+vMass)\n",
    "        s3.pos = m2.pos+vMass\n",
    "        s3.axis = (wallRight.pos-vWall)-(m2.pos+vMass)\n",
    "        \n",
    "    updateScreen(s)"
   ]
  },
  {
   "cell_type": "code",
   "execution_count": 7,
   "metadata": {},
   "outputs": [],
   "source": [
    "#\n",
    "# VPython: Simulation of 2 coupled masses on springs.\n",
    "#\n",
    "if USE_VISUAL:\n",
    "\n",
    "    while True:\n",
    "        vp.rate(30)\n",
    "        s = RK4Step(s, dt, t, derivs_2m)\n",
    "        t += dt\n",
    "        updateScreen(s)\n"
   ]
  },
  {
   "cell_type": "code",
   "execution_count": 8,
   "metadata": {},
   "outputs": [
    {
     "data": {
      "image/png": "[encoded data removed]",
      "text/plain": [
       "<Figure size 432x288 with 2 Axes>"
      ]
     },
     "metadata": {
      "needs_background": "light"
     },
     "output_type": "display_data"
    }
   ],
   "source": [
    "if not USE_VISUAL:\n",
    "    x1list=[s[0]]\n",
    "    x2list=[s[2]]\n",
    "    tlist=[0.0]\n",
    "    t=0.0\n",
    "    \n",
    "    while t<6:\n",
    "        s = RK4Step(s, dt, t, derivs_2m)\n",
    "        t += dt\n",
    "        x1list.append(s[0])\n",
    "        x2list.append(s[2])\n",
    "        tlist.append(t)\n",
    "        \n",
    "    pl.subplot(211)\n",
    "    pl.ylabel(\"x1\")\n",
    "    pl.title(\"motion of coupled masses\")\n",
    "    pl.plot(tlist,x1list,label=\"x1\")\n",
    "    pl.subplot(212)\n",
    "    pl.ylabel(\"x2\")\n",
    "    pl.xlabel(\"t\")\n",
    "    pl.plot(tlist,x2list,label=\"x2\")\n",
    "    \n"
   ]
  },
  {
   "cell_type": "markdown",
   "metadata": {},
   "source": [
    "We can also sort out what's happening using the matrix formulation developed in the slides. The eigenvalue problem:\n",
    "\n",
    "$$\\begin{bmatrix} \\frac{(k_b+k_s)}{m} & -\\frac{k_s}{m} \\\\ -\\frac{k_s}{m} & \\frac{(k_b + k_s)}{m} \\end{bmatrix} \\begin{bmatrix} x_1 \\\\ x_2 \\end{bmatrix}  = \\frac{k_b}{m} \\begin{bmatrix} x_1 \\\\ x_2 \\end{bmatrix} $$\n",
    "\n",
    "Has solutions:\n",
    "\n",
    "$$\\omega^2 = \\frac{k_b}{m},\\frac{k_b+2k_s}{m}$$\n",
    "\n",
    "Which corrspond to eigenvectors\n",
    "\n",
    "$$\\begin{bmatrix} x_1 \\\\ x_2 \\end{bmatrix} = \\mathinner|+\\rangle =  \\frac{1}{\\sqrt{2}} \\begin{bmatrix} 1 \\\\ 1 \\end{bmatrix}$$\n",
    "\n",
    "or \n",
    "\n",
    "$$\\begin{bmatrix} x_1 \\\\ x_2 \\end{bmatrix} = \\mathinner|-\\rangle = \\frac{1}{\\sqrt{2}} \\begin{bmatrix} 1 \\\\ -1 \\end{bmatrix}$$\n",
    "\n",
    "The neat thing is that we can use the \"eig\" function in pylab to automaticaly find the eigenvectors and eigenvalues automatically.\n",
    "\n",
    "See the cell below for an example!\n"
   ]
  },
  {
   "cell_type": "code",
   "execution_count": 9,
   "metadata": {},
   "outputs": [
    {
     "name": "stdout",
     "output_type": "stream",
     "text": [
      "values: [12. 10.]\n",
      "vec(0): [ 0.70710678 -0.70710678]\n",
      "vec(1): [0.70710678 0.70710678]\n"
     ]
    }
   ],
   "source": [
    "Mat = np.array([[(kb+ks)/m, -ks/m],\n",
    "            [-ks/m, (kb+ks)/m]])\n",
    "\n",
    "vals, vecs = np.linalg.eig(Mat)\n",
    "\n",
    "print(\"values:\", vals)\n",
    "print(\"vec(0):\", vecs[:,0])\n",
    "print(\"vec(1):\", vecs[:,1])"
   ]
  },
  {
   "cell_type": "markdown",
   "metadata": {},
   "source": [
    "Project 10\n",
    "===========\n",
    "\n",
    "Complete the analyss of three masses connected by springs of equal spring constant.\n",
    "\n",
    "Find the eigenvalues and eigenvectors for three masses.\n",
    "\n",
    "Use the RK4 approach as shown above to validate that the eigenvalues you compute are correct."
   ]
  },
  {
   "cell_type": "code",
   "execution_count": 10,
   "metadata": {},
   "outputs": [
    {
     "name": "stdout",
     "output_type": "stream",
     "text": [
      "A => 0.5728008043048707\n",
      "omega**2 => 9.749896698313547\n",
      "phi => -0.21094759892722229\n"
     ]
    },
    {
     "data": {
      "text/plain": [
       "<matplotlib.legend.Legend at 0x120c04690>"
      ]
     },
     "execution_count": 10,
     "metadata": {},
     "output_type": "execute_result"
    },
    {
     "data": {
      "image/png": "[encoded data removed]",
      "text/plain": [
       "<Figure size 432x288 with 1 Axes>"
      ]
     },
     "metadata": {
      "needs_background": "light"
     },
     "output_type": "display_data"
    }
   ],
   "source": [
    "from scipy.optimize import curve_fit\n",
    "\n",
    "def cosFit(t, A, omega, phi):\n",
    "    \"\"\"\n",
    "    Function def for a cosine fit\n",
    "    \"\"\"\n",
    "    return A*np.cos(omega*t+phi)\n",
    "\n",
    "x1a=np.array(x1list)\n",
    "ta=np.array(tlist)\n",
    "popt, pcov = curve_fit(cosFit, ta, x1a, p0=(0.707, np.sqrt(10.0), 0.0))\n",
    "\n",
    "A=popt[0]\n",
    "omega=popt[1]\n",
    "phi=popt[2]\n",
    "\n",
    "print(\"A =>\", A)\n",
    "print(\"omega**2 =>\", omega**2)\n",
    "print(\"phi =>\", phi)\n",
    "\n",
    "pl.title('Fit to find frequency.')\n",
    "pl.xlabel('t')\n",
    "pl.ylabel('x1')\n",
    "pl.plot(ta, cosFit(ta, A, omega, phi), 'b-', label=\"fit\")\n",
    "pl.plot(ta, x1a, 'r.', label='data')\n",
    "pl.legend()"
   ]
  },
  {
   "cell_type": "code",
   "execution_count": null,
   "metadata": {},
   "outputs": [],
   "source": []
  }
 ],
 "metadata": {
  "kernelspec": {
   "display_name": "Python 3",
   "language": "python",
   "name": "python3"
  },
  "language_info": {
   "codemirror_mode": {
    "name": "ipython",
    "version": 3
   },
   "file_extension": ".py",
   "mimetype": "text/x-python",
   "name": "python",
   "nbconvert_exporter": "python",
   "pygments_lexer": "ipython3",
   "version": "3.7.6"
  }
 },
 "nbformat": 4,
 "nbformat_minor": 1
}
