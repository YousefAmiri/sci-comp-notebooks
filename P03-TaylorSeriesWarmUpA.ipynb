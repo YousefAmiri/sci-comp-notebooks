{
 "cells": [
  {
   "cell_type": "code",
   "execution_count": 1,
   "metadata": {},
   "outputs": [],
   "source": [
    "import sympy as sp\n",
    "sp.init_printing()"
   ]
  },
  {
   "cell_type": "code",
   "execution_count": 2,
   "metadata": {},
   "outputs": [],
   "source": [
    "Uo,x,s=sp.symbols('Uo x s', real=True)"
   ]
  },
  {
   "cell_type": "code",
   "execution_count": 3,
   "metadata": {},
   "outputs": [
    {
     "data": {
      "image/png": "[encoded data removed]",
      "text/latex": [
       "$\\displaystyle Uo \\left(\\frac{s^{12}}{x^{12}} - \\frac{s^{6}}{x^{6}}\\right)$"
      ],
      "text/plain": [
       "   ⎛ 12    6⎞\n",
       "   ⎜s     s ⎟\n",
       "Uo⋅⎜─── - ──⎟\n",
       "   ⎜ 12    6⎟\n",
       "   ⎝x     x ⎠"
      ]
     },
     "execution_count": 3,
     "metadata": {},
     "output_type": "execute_result"
    }
   ],
   "source": [
    "U=Uo*((s/x)**12-(s/x)**6)\n",
    "U"
   ]
  },
  {
   "cell_type": "code",
   "execution_count": 4,
   "metadata": {},
   "outputs": [
    {
     "data": {
      "image/png": "[encoded data removed]",
      "text/latex": [
       "$\\displaystyle Uo \\left(- \\frac{12 s^{12}}{x^{13}} + \\frac{6 s^{6}}{x^{7}}\\right)$"
      ],
      "text/plain": [
       "   ⎛      12      6⎞\n",
       "   ⎜  12⋅s     6⋅s ⎟\n",
       "Uo⋅⎜- ────── + ────⎟\n",
       "   ⎜    13       7 ⎟\n",
       "   ⎝   x        x  ⎠"
      ]
     },
     "execution_count": 4,
     "metadata": {},
     "output_type": "execute_result"
    }
   ],
   "source": [
    "Up=U.diff(x)\n",
    "Up"
   ]
  },
  {
   "cell_type": "code",
   "execution_count": 5,
   "metadata": {},
   "outputs": [
    {
     "data": {
      "image/png": "[encoded data removed]",
      "text/latex": [
       "$\\displaystyle \\left[ - \\sqrt[6]{2} s, \\  \\sqrt[6]{2} s, \\  s \\left(- \\frac{\\sqrt[6]{2}}{2} - \\frac{\\sqrt[6]{2} \\sqrt{3} i}{2}\\right), \\  s \\left(- \\frac{\\sqrt[6]{2}}{2} + \\frac{\\sqrt[6]{2} \\sqrt{3} i}{2}\\right), \\  s \\left(\\frac{\\sqrt[6]{2}}{2} - \\frac{\\sqrt[6]{2} \\sqrt{3} i}{2}\\right), \\  s \\left(\\frac{\\sqrt[6]{2}}{2} + \\frac{\\sqrt[6]{2} \\sqrt{3} i}{2}\\right)\\right]$"
      ],
      "text/plain": [
       "⎡                     ⎛  6 ___   6 ___     ⎞    ⎛  6 ___   6 ___     ⎞    ⎛6 _\n",
       "⎢ 6 ___    6 ___      ⎜  ╲╱ 2    ╲╱ 2 ⋅√3⋅ⅈ⎟    ⎜  ╲╱ 2    ╲╱ 2 ⋅√3⋅ⅈ⎟    ⎜╲╱ \n",
       "⎢-╲╱ 2 ⋅s, ╲╱ 2 ⋅s, s⋅⎜- ───── - ──────────⎟, s⋅⎜- ───── + ──────────⎟, s⋅⎜───\n",
       "⎣                     ⎝    2         2     ⎠    ⎝    2         2     ⎠    ⎝  2\n",
       "\n",
       "__   6 ___     ⎞    ⎛6 ___   6 ___     ⎞⎤\n",
       "2    ╲╱ 2 ⋅√3⋅ⅈ⎟    ⎜╲╱ 2    ╲╱ 2 ⋅√3⋅ⅈ⎟⎥\n",
       "── - ──────────⎟, s⋅⎜───── + ──────────⎟⎥\n",
       "         2     ⎠    ⎝  2         2     ⎠⎦"
      ]
     },
     "execution_count": 5,
     "metadata": {},
     "output_type": "execute_result"
    }
   ],
   "source": [
    "roots = sp.solve(Up,x)\n",
    "roots"
   ]
  },
  {
   "cell_type": "code",
   "execution_count": 6,
   "metadata": {},
   "outputs": [
    {
     "name": "stdout",
     "output_type": "stream",
     "text": [
      "2**(1/6)*s\n"
     ]
    },
    {
     "data": {
      "image/png": "[encoded data removed]",
      "text/latex": [
       "$\\displaystyle \\sqrt[6]{2} s$"
      ],
      "text/plain": [
       "6 ___  \n",
       "╲╱ 2 ⋅s"
      ]
     },
     "execution_count": 6,
     "metadata": {},
     "output_type": "execute_result"
    }
   ],
   "source": [
    "x0=roots[1]\n",
    "print(x0)\n",
    "x0"
   ]
  },
  {
   "cell_type": "code",
   "execution_count": 7,
   "metadata": {},
   "outputs": [
    {
     "name": "stdout",
     "output_type": "stream",
     "text": [
      "-Uo/4\n"
     ]
    },
    {
     "data": {
      "image/png": "[encoded data removed]",
      "text/latex": [
       "$\\displaystyle - \\frac{Uo}{4}$"
      ],
      "text/plain": [
       "-Uo \n",
       "────\n",
       " 4  "
      ]
     },
     "execution_count": 7,
     "metadata": {},
     "output_type": "execute_result"
    }
   ],
   "source": [
    "Um=U.subs(x,x0)\n",
    "print(Um)\n",
    "Um"
   ]
  },
  {
   "cell_type": "code",
   "execution_count": 8,
   "metadata": {},
   "outputs": [
    {
     "data": {
      "image/png": "[encoded data removed]",
      "text/latex": [
       "$\\displaystyle Uo \\left(\\frac{156 s^{12}}{x^{14}} - \\frac{42 s^{6}}{x^{8}}\\right)$"
      ],
      "text/plain": [
       "   ⎛     12       6⎞\n",
       "   ⎜156⋅s     42⋅s ⎟\n",
       "Uo⋅⎜─────── - ─────⎟\n",
       "   ⎜   14        8 ⎟\n",
       "   ⎝  x         x  ⎠"
      ]
     },
     "execution_count": 8,
     "metadata": {},
     "output_type": "execute_result"
    }
   ],
   "source": [
    "Upp=Up.diff(x)\n",
    "Upp"
   ]
  },
  {
   "cell_type": "code",
   "execution_count": 9,
   "metadata": {},
   "outputs": [
    {
     "name": "stdout",
     "output_type": "stream",
     "text": [
      "9*2**(2/3)*Uo/s**2\n",
      "\\frac{9 \\cdot 2^{\\frac{2}{3}} Uo}{s^{2}}\n"
     ]
    },
    {
     "data": {
      "image/png": "[encoded data removed]",
      "text/latex": [
       "$\\displaystyle \\frac{9 \\cdot 2^{\\frac{2}{3}} Uo}{s^{2}}$"
      ],
      "text/plain": [
       "   2/3   \n",
       "9⋅2   ⋅Uo\n",
       "─────────\n",
       "     2   \n",
       "    s    "
      ]
     },
     "execution_count": 9,
     "metadata": {},
     "output_type": "execute_result"
    }
   ],
   "source": [
    "k=Upp.subs(x,x0)\n",
    "print(k)\n",
    "print(sp.latex(k))\n",
    "k"
   ]
  },
  {
   "cell_type": "code",
   "execution_count": 10,
   "metadata": {},
   "outputs": [],
   "source": [
    "m=sp.symbols(\"m\")"
   ]
  },
  {
   "cell_type": "code",
   "execution_count": 11,
   "metadata": {},
   "outputs": [
    {
     "data": {
      "image/png": "[encoded data removed]",
      "text/latex": [
       "$\\displaystyle \\frac{3 \\sqrt[3]{2} \\sqrt{\\frac{Uo}{m}}}{\\left|{s}\\right|}$"
      ],
      "text/plain": [
       "            ____\n",
       "  3 ___    ╱ Uo \n",
       "3⋅╲╱ 2 ⋅  ╱  ── \n",
       "        ╲╱   m  \n",
       "────────────────\n",
       "      │s│       "
      ]
     },
     "execution_count": 11,
     "metadata": {},
     "output_type": "execute_result"
    }
   ],
   "source": [
    "omega=sp.sqrt(k/m)\n",
    "omega"
   ]
  },
  {
   "cell_type": "code",
   "execution_count": null,
   "metadata": {},
   "outputs": [],
   "source": []
  }
 ],
 "metadata": {
  "kernelspec": {
   "display_name": "Python 3",
   "language": "python",
   "name": "python3"
  },
  "language_info": {
   "codemirror_mode": {
    "name": "ipython",
    "version": 3
   },
   "file_extension": ".py",
   "mimetype": "text/x-python",
   "name": "python",
   "nbconvert_exporter": "python",
   "pygments_lexer": "ipython3",
   "version": "3.7.6"
  }
 },
 "nbformat": 4,
 "nbformat_minor": 2
}
