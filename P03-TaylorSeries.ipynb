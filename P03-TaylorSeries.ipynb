{
 "cells": [
  {
   "cell_type": "markdown",
   "metadata": {},
   "source": [
    "Taylor Series\n",
    "=============\n",
    "\n",
    "Suppose you have some function that may be expensive or difficult to evaluate and so you’d like to find an easy approximation for that function in some limited domain. One particularly nice way to handle that is with a polynomial approximation since they are easy to compute. The question is: How can we find such a polynomial? One easy answer is called the \"Taylor Series\" set up like so:\n",
    "\n",
    "$$f(x) = A + B(x-x_0) + C(x-x_0)^2 + D(x-x_0)^3 + \\cdots$$\n",
    "\n",
    "So.. $x_0$ is the point around which we are interested in finding an approximation, but what are the values coefficients $A$, $B$, $C$, etc. of the binomials $(x-x_0)^n$ ? There are many ways to answer that question but *Taylor* *Series* answer is that the value of the function, and all of its derivatives *must* *match* the value of the *series* and all of *its* derivatives at the point x0. Let’s try it and see what happens: Just substitute $x \\rightarrow x_0$ in the expression.\n",
    "\n",
    "What happens? Well.. $x_0 - x_0$ is nothing but $0$ so all but the first term go to zeor and we just get:\n",
    "\n",
    "$$f(x_0) = A$$\n",
    "\n",
    "We have our first coefficient, $A=f(x_0)$, so $A$ is simply equal to the *value* of the function at the point of interest.\n",
    "\n",
    "What about $B$, $C$, and all the rest? Let’s demand that the first derivative of $f(x)$ match the first derivative of the series and see what we discover. What is the first derivative of the series?\n",
    "\n",
    "$$f'(x) = 0 + B + 2C(x-x_0) + 3D(x-x_0)^2 + \\cdots $$\n",
    "\n",
    "Now, put $x \\rightarrow x_0$ and see what we get:\n",
    "\n",
    "$$f'(x_0) = 0 + B + 0 + \\cdots $$\n",
    "\n",
    "so $B = f'(x_0)$, see how easy this is!\n",
    "\n",
    "Now try the second derivative:\n",
    "\n",
    "$$f''(x) = 0 + 0 + 2C + 6D(x-x_0) + \\cdots $$\n",
    "\n",
    "putting $x \\rightarrow x_0$ and we see:\n",
    "\n",
    "$$f''(x_0) = 2C$$\n",
    "\n",
    "so $C=f''(x_0)/2$. If you carry this on for a bit you can see you get:\n",
    "\n",
    "$$f(x) \\approx f(x_0) + f'(x_0)(x-x_0) + \\frac{1}{2}f''(x_0)(x-x_0)^2 + \\cdots$$\n",
    "\n",
    "or more generally:\n",
    "\n",
    "$$f(x) = \\sum_{n=0}^{n=\\infty} \\frac{f^{(n)}(x_0)}{n!}(x-x_0)^n$$\n",
    "\n",
    "Morse Potential\n",
    "===============\n",
    "\n",
    "Let's use this technique to analyze the motion of nitrogen atoms in a nitrogen molecule. The atoms live in an attractive potential of the form:\n",
    "\n",
    "$$U(x) = U_m \\left( \\left(1-e^{-\\alpha(x-x_0)}\\right)^2 - 1\\right)$$\n",
    "\n",
    "Let's load up sympy and define all the symbols we need: $U_m$, $x$, $x_0$ and $\\alpha$:\n"
   ]
  },
  {
   "cell_type": "code",
   "execution_count": 1,
   "metadata": {},
   "outputs": [],
   "source": [
    "import sympy as sp\n",
    "sp.init_printing()"
   ]
  },
  {
   "cell_type": "code",
   "execution_count": 3,
   "metadata": {},
   "outputs": [],
   "source": [
    "Um,x,x0,alpha=sp.symbols('Um x x_0 alpha', real=True)"
   ]
  },
  {
   "cell_type": "markdown",
   "metadata": {},
   "source": [
    "Next let's define the Morse Potential function $U(x)$:"
   ]
  },
  {
   "cell_type": "code",
   "execution_count": 4,
   "metadata": {},
   "outputs": [
    {
     "data": {
      "image/png": "[encoded data removed]",
      "text/latex": [
       "$\\displaystyle Um \\left(\\left(1 - e^{- \\alpha \\left(x - x_{0}\\right)}\\right)^{2} - 1\\right)$"
      ],
      "text/plain": [
       "   ⎛                  2    ⎞\n",
       "   ⎜⎛     -α⋅(x - x₀)⎞     ⎟\n",
       "Um⋅⎝⎝1 - ℯ           ⎠  - 1⎠"
      ]
     },
     "execution_count": 4,
     "metadata": {},
     "output_type": "execute_result"
    }
   ],
   "source": [
    "U = Um*((1-sp.exp(-alpha*(x-x0)))**2-1)\n",
    "U"
   ]
  },
  {
   "cell_type": "markdown",
   "metadata": {},
   "source": [
    "Next, Let's take the derivatite of $U(x)$ with respect to $x$: $U'(x)$. \n",
    "\n",
    "Remember the force is $-U'(x)$ so the point in space where $U'(x)=0$ is the equilibrium position."
   ]
  },
  {
   "cell_type": "code",
   "execution_count": 5,
   "metadata": {},
   "outputs": [
    {
     "name": "stdout",
     "output_type": "stream",
     "text": [
      "Python expression for Force:\n",
      "Force is: -2*Um*alpha*(1 - exp(-alpha*(x - x_0)))*exp(-alpha*(x - x_0))\n",
      "Latex: 2 Um \\alpha \\left(1 - e^{- \\alpha \\left(x - x_{0}\\right)}\\right) e^{- \\alpha \\left(x - x_{0}\\right)}\n",
      "Pretty math\n"
     ]
    },
    {
     "data": {
      "image/png": "[encoded data removed]",
      "text/latex": [
       "$\\displaystyle 2 Um \\alpha \\left(1 - e^{- \\alpha \\left(x - x_{0}\\right)}\\right) e^{- \\alpha \\left(x - x_{0}\\right)}$"
      ],
      "text/plain": [
       "       ⎛     -α⋅(x - x₀)⎞  -α⋅(x - x₀)\n",
       "2⋅Um⋅α⋅⎝1 - ℯ           ⎠⋅ℯ           "
      ]
     },
     "execution_count": 5,
     "metadata": {},
     "output_type": "execute_result"
    }
   ],
   "source": [
    "Up=U.diff(x)\n",
    "print(\"Python expression for Force:\")\n",
    "print(\"Force is:\",-Up)\n",
    "print(\"Latex:\", sp.latex(Up))\n",
    "print(\"Pretty math\")\n",
    "Up"
   ]
  },
  {
   "cell_type": "markdown",
   "metadata": {},
   "source": [
    "Next we can solve for the value of x where $\\frac{dU}{dx} = 0$."
   ]
  },
  {
   "cell_type": "code",
   "execution_count": 6,
   "metadata": {},
   "outputs": [
    {
     "data": {
      "image/png": "[encoded data removed]",
      "text/latex": [
       "$\\displaystyle \\left[ x_{0}\\right]$"
      ],
      "text/plain": [
       "[x₀]"
      ]
     },
     "execution_count": 6,
     "metadata": {},
     "output_type": "execute_result"
    }
   ],
   "source": [
    "sp.solve(Up,x)"
   ]
  },
  {
   "cell_type": "markdown",
   "metadata": {},
   "source": [
    "Aha! So the function has a minimum at $x=x_0$. Now take the *second* derivative of $U(x)$ with respect to $x$: $U''(x)$"
   ]
  },
  {
   "cell_type": "code",
   "execution_count": 7,
   "metadata": {},
   "outputs": [
    {
     "data": {
      "image/png": "[encoded data removed]",
      "text/latex": [
       "$\\displaystyle - 2 Um \\alpha^{2} \\left(1 - e^{- \\alpha \\left(x - x_{0}\\right)}\\right) e^{- \\alpha \\left(x - x_{0}\\right)} + 2 Um \\alpha^{2} e^{- 2 \\alpha \\left(x - x_{0}\\right)}$"
      ],
      "text/plain": [
       "        2 ⎛     -α⋅(x - x₀)⎞  -α⋅(x - x₀)         2  -2⋅α⋅(x - x₀)\n",
       "- 2⋅Um⋅α ⋅⎝1 - ℯ           ⎠⋅ℯ            + 2⋅Um⋅α ⋅ℯ             "
      ]
     },
     "execution_count": 7,
     "metadata": {},
     "output_type": "execute_result"
    }
   ],
   "source": [
    "Upp=Up.diff(x)\n",
    "Upp"
   ]
  },
  {
   "cell_type": "markdown",
   "metadata": {},
   "source": [
    "OK, we can use the `subs` method to evalute $U''(x)$ where $x=x_0$:"
   ]
  },
  {
   "cell_type": "code",
   "execution_count": 8,
   "metadata": {},
   "outputs": [
    {
     "data": {
      "image/png": "[encoded data removed]",
      "text/latex": [
       "$\\displaystyle 2 Um \\alpha^{2}$"
      ],
      "text/plain": [
       "      2\n",
       "2⋅Um⋅α "
      ]
     },
     "execution_count": 8,
     "metadata": {},
     "output_type": "execute_result"
    }
   ],
   "source": [
    "Upp.subs(x,x0)"
   ]
  },
  {
   "cell_type": "markdown",
   "metadata": {},
   "source": [
    "So, we see now that:\n",
    "\n",
    "$$\\frac{d^2U}{dx^2}\\bigg|_{x_0} = 2 U_m \\alpha^2$$\n",
    "\n",
    "so we can connect the parameters of the Morse Potential to the Taylor Series coefficients near the minimum of the Potential.\n",
    "\n",
    "Project 3\n",
    "===========\n",
    "\n",
    "See the podcast! But basically the project is to use the experimental data, the analytical approximation (Taylor Series) to the Morse Potential and the Heun Method to:\n",
    "\n",
    "* Verify/show that the experimental data is consistent with the Morse Potential model.\n",
    "\n",
    "* Use the Heun Method to compute the period of small oscillations about the equilibrium position and compare that to the experimental data *and* the Taylor Series result.\n",
    "\n",
    "$U_m$ = 7.37 eV\n",
    "\n",
    "$x_0$ = 1.2 A\n",
    "\n",
    "$\\alpha = 2.287\\ A^{-1}$\n",
    "\n",
    "$f$ = $5.19\\times 10^{13}$ Hz\n",
    "\n",
    "IMPORTANT NOTES\n",
    "---------------\n",
    "\n",
    "1) Without careful attention to keeping the namespaces separate it's not really practical to use sympy and pylab at the same time in the same notebook. If you're interested in this, I have a notebook that illustrates how this can be done, but I don't want overload you with too many new concepts in this one lesson. If you're already confused just take my advice and don't mix them. Doing this is easy: Create *one* notebook for sympy. Take the *result* of that notebook and use it to produce the python expression you need for the numerial algorithm. Then create a *second* notebook and simply *paste* python expression produced by the first notebook in the evaluation of the force for the second notebook. Simple.\n",
    "\n",
    "2) This project is meant to add two tools to your toolbox 1: sympy, 2: Talor Series expansion. Both of these are really just analytical tools that work with algebra and calculus. We're going to use these tools to understand and approximate the low amplitude behavior system interacting under the Morse Potential. Then we're going to *check* our understanding and approximation by calculating the (arbitrary amplitude) behavior of a system interacting under the Morse Potential numericaly and evaluating the frequency at various amplitudes. So:\n",
    "\n",
    "    a) Use sympy/Taylor series to estimate the low-amplitude frequency of the system\n",
    "    b) Use sympy to get a python expression for the Force of interaction\n",
    "    c) Use a numerical method (e.g., Heun Algorithm) to compute the time evolution (frequency) of the system\n",
    "    d) Compare the results of (c) and (a)\n",
    "    e) Once you've validated the code in step \"d\" experiment with increasing the amplitude of motion. \n",
    "    f) Describe how the period and trajectory of the particle changes.\n",
    "\n",
    "Please ask if you have questions!\n"
   ]
  },
  {
   "cell_type": "code",
   "execution_count": null,
   "metadata": {},
   "outputs": [],
   "source": []
  }
 ],
 "metadata": {
  "kernelspec": {
   "display_name": "Python 3",
   "language": "python",
   "name": "python3"
  },
  "language_info": {
   "codemirror_mode": {
    "name": "ipython",
    "version": 3
   },
   "file_extension": ".py",
   "mimetype": "text/x-python",
   "name": "python",
   "nbconvert_exporter": "python",
   "pygments_lexer": "ipython3",
   "version": "3.7.6"
  }
 },
 "nbformat": 4,
 "nbformat_minor": 1
}
