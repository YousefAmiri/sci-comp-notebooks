{
 "cells": [
  {
   "cell_type": "markdown",
   "metadata": {},
   "source": [
    "Power Law Distributions: Zipf's Law\n",
    "=======================\n",
    "\n",
    "(Note: Be sure to either download the data that goes with this notebook or uncomment/edit the lines below needed to get your own data before executing the code in this notebook.)\n",
    "\n",
    "It turns out that \"power law\" distributions are ubitquitous in nature, see:\n",
    "\n",
    "1 [http://arxiv.org/abs/cond-mat/0412004](http://arxiv.org/abs/cond-mat/0412004)\n",
    "\n",
    "2 [https://arxiv.org/abs/1812.09662](https://arxiv.org/abs/1812.09662)\n",
    "\n",
    "In the next feww cells of this notebook I measure the number of files of different sizes on my hard disk. Then I proceed to quantify (in the simples possible way) the distribution of file sizes in a certain range as a power law distribution.\n"
   ]
  },
  {
   "cell_type": "code",
   "execution_count": 1,
   "metadata": {},
   "outputs": [],
   "source": [
    "import numpy as np\n",
    "import matplotlib.pyplot as pl\n",
    "\n",
    "import pandas as pd                    # pandas is the \"python data analysis package\"\n",
    "import os                              # operating system services\n",
    "from scipy.optimize import curve_fit   # non-linear curve fitting"
   ]
  },
  {
   "cell_type": "code",
   "execution_count": 2,
   "metadata": {},
   "outputs": [],
   "source": [
    "def getFileSizes(folder, minsize=2000, maxsize=10**9):\n",
    "    \"\"\"\n",
    "    return a list of file sizes in a folder\n",
    "    \"\"\"\n",
    "    sizes = []\n",
    "    for (path, dirs, files) in os.walk(folder):\n",
    "        for file in files:\n",
    "            try:\n",
    "                filename = os.path.join(path, file)\n",
    "                size=os.path.getsize(filename)\n",
    "                if size>minsize and size<maxsize:\n",
    "                    sizes.append(size)\n",
    "            except OSError:\n",
    "                pass\n",
    "    return sizes"
   ]
  },
  {
   "cell_type": "code",
   "execution_count": 3,
   "metadata": {},
   "outputs": [],
   "source": [
    "if 0: # set this to \"1\" to actaully collect data, but edit the paths to match your computer.\n",
    "    minsize=10**4  # the minimum file size to consider\n",
    "    maxsize=10**10 # the maximum file size to consider\n",
    "    sizes = getFileSizes('/Users/steve/Desktop',minsize,maxsize) # <--- edit this to match some folder with a lot of files\n",
    "    print(len(sizes), 'files between', minsize, 'and', maxsize)"
   ]
  },
  {
   "cell_type": "code",
   "execution_count": 4,
   "metadata": {},
   "outputs": [],
   "source": [
    "\n",
    "if 0: # set this to \"1\" to write the file\n",
    "    df=pd.DataFrame({'file_sizes':sizes})\n",
    "    df.to_csv('myData.csv', sep=',')\n",
    "else: # read the file\n",
    "    df=pd.read_csv('myData.csv')\n",
    "    df.head()\n",
    "    sizes = df.file_sizes"
   ]
  },
  {
   "cell_type": "code",
   "execution_count": 6,
   "metadata": {},
   "outputs": [
    {
     "data": {
      "image/png": "[encoded data removed]",
      "text/plain": [
       "<Figure size 432x288 with 1 Axes>"
      ]
     },
     "metadata": {
      "needs_background": "light"
     },
     "output_type": "display_data"
    }
   ],
   "source": [
    "ns,bins,patches = pl.hist(np.log(np.array(sizes)+1),40)"
   ]
  },
  {
   "cell_type": "code",
   "execution_count": 8,
   "metadata": {},
   "outputs": [
    {
     "data": {
      "text/plain": [
       "[<matplotlib.lines.Line2D at 0x128915d90>]"
      ]
     },
     "execution_count": 8,
     "metadata": {},
     "output_type": "execute_result"
    },
    {
     "data": {
      "image/png": "[encoded data removed]",
      "text/plain": [
       "<Figure size 432x288 with 1 Axes>"
      ]
     },
     "metadata": {
      "needs_background": "light"
     },
     "output_type": "display_data"
    }
   ],
   "source": [
    "xvals=(bins[:-1]+bins[1:])/2.0\n",
    "counts=ns+0.5\n",
    "yvals=np.log(counts)\n",
    "pl.title(\"distribution of file sizes\")\n",
    "pl.ylabel(\"log(count)\")\n",
    "pl.xlabel(\"log(size)\")\n",
    "pl.plot(xvals,yvals,'b.')"
   ]
  },
  {
   "cell_type": "markdown",
   "metadata": {},
   "source": [
    "Uncertainties in the Parameters\n",
    "-------------------------------\n",
    "\n",
    "There are a variety of techniques for estimating the uncertainty in the parameters you compute. The approach we'll take is one of the more \"brute force\" approaches, but it's pretty robust. We're going to fabricate data that has the same statistics as our original data (do the degree that we know and/or care). Then we'll fit the fabricated data many times (1000 times in this case) and we'll look at the statistics of the fit parameters produced. From this we can tell how well our fit has done at narrowing down the parameters we computed.\n"
   ]
  },
  {
   "cell_type": "code",
   "execution_count": 11,
   "metadata": {},
   "outputs": [],
   "source": [
    "#\n",
    "# Just to see same data fit using the non-linear scipy package \"curve_fit\":\n",
    "#\n",
    "\n",
    "def fLinear(x, m, b):\n",
    "    return m*x + b\n",
    "\n",
    "m0 = (yvals[-1]-yvals[0])/(xvals[-1]-xvals[0])  # estimate slope\n",
    "b0 = yvals[0] - m0*xvals[0]                     # estimate intercept\n",
    "sigma=1.0/np.sqrt(np.abs(counts))\n",
    "\n",
    "popt, pcov = curve_fit(fLinear, xvals, yvals, p0=(m0, b0), sigma=sigma)\n",
    "\n",
    "m=popt[0]          # slope\n",
    "dm=np.sqrt(pcov[0,0]) # sqrt(variance(slope))\n",
    "b=popt[1]          # int\n",
    "db=np.sqrt(pcov[1,1]) # sqrt(variance(int))\n",
    "ystar=fLinear(xvals, m, b)\n",
    "\n",
    "N=1000    # number of samples to take\n",
    "mList=[]  # keep track of monte-carlo fit parameters\n",
    "bList=[]\n",
    "\n",
    "for i in range(N):\n",
    "    \"\"\"\n",
    "    Generate mc data with the same statistical properties as the real data.\n",
    "    Repeat the fit for each set, and record the parameters.\n",
    "    \"\"\"\n",
    "    mcY = ystar + sigma*np.random.normal(size=len(xvals))  # generate fabricated data to fit\n",
    "    mcpopt, mcpcov = curve_fit(fLinear, xvals, mcY, p0=(m,b), sigma=sigma)\n",
    "    mList.append(mcpopt[0])  # store the fit paramters for the fab-data\n",
    "    bList.append(mcpopt[1])"
   ]
  },
  {
   "cell_type": "code",
   "execution_count": 13,
   "metadata": {},
   "outputs": [
    {
     "data": {
      "text/plain": [
       "(array([ 13.,  29.,  62., 144., 198., 217., 183., 111.,  34.,   9.]),\n",
       " array([-0.42226101, -0.41820593, -0.41415086, -0.41009578, -0.40604071,\n",
       "        -0.40198563, -0.39793055, -0.39387548, -0.3898204 , -0.38576532,\n",
       "        -0.38171025]),\n",
       " <a list of 10 Patch objects>)"
      ]
     },
     "execution_count": 13,
     "metadata": {},
     "output_type": "execute_result"
    },
    {
     "data": {
      "image/png": "[encoded data removed]",
      "text/plain": [
       "<Figure size 432x288 with 1 Axes>"
      ]
     },
     "metadata": {
      "needs_background": "light"
     },
     "output_type": "display_data"
    }
   ],
   "source": [
    "# check slope histogram\n",
    "\n",
    "pl.hist(mList)"
   ]
  },
  {
   "cell_type": "code",
   "execution_count": 14,
   "metadata": {},
   "outputs": [
    {
     "data": {
      "text/plain": [
       "(array([ 10.,  34., 114., 175., 222., 205., 134.,  69.,  26.,  11.]),\n",
       " array([10.02641787, 10.07381526, 10.12121264, 10.16861002, 10.21600741,\n",
       "        10.26340479, 10.31080218, 10.35819956, 10.40559694, 10.45299433,\n",
       "        10.50039171]),\n",
       " <a list of 10 Patch objects>)"
      ]
     },
     "execution_count": 14,
     "metadata": {},
     "output_type": "execute_result"
    },
    {
     "data": {
      "image/png": "[encoded data removed]",
      "text/plain": [
       "<Figure size 432x288 with 1 Axes>"
      ]
     },
     "metadata": {
      "needs_background": "light"
     },
     "output_type": "display_data"
    }
   ],
   "source": [
    "# check intercept histogram\n",
    "\n",
    "pl.hist(bList)"
   ]
  },
  {
   "cell_type": "code",
   "execution_count": 17,
   "metadata": {},
   "outputs": [
    {
     "name": "stdout",
     "output_type": "stream",
     "text": [
      "Slope= -0.4010129725637122 +/- 0.007056226722822071 ( -0.4080691992865343 , -0.39395674584089013 )\n",
      "Intercept= 10.251110169860413 +/- 0.08162270120288012 ( 9.941549243952434 , 10.332732871063293 )\n",
      "\n",
      "Compare to cov-matrix for fun:\n",
      "sqsrt(pcov[0,0]) (should be sigma m) 0.02675033478186744\n",
      "sqrt(pcov[1,1]) (should be sigma b) 0.30956092590797973\n"
     ]
    },
    {
     "data": {
      "image/png": "[encoded data removed]",
      "text/plain": [
       "<Figure size 432x288 with 1 Axes>"
      ]
     },
     "metadata": {
      "needs_background": "light"
     },
     "output_type": "display_data"
    }
   ],
   "source": [
    "#\n",
    "# Compute the statistics of the mc-results\n",
    "#\n",
    "\n",
    "marr=np.array(mList)\n",
    "barr=np.array(bList)\n",
    "\n",
    "mAvg = marr.mean()\n",
    "bAvg = barr.mean()\n",
    "sigM = marr.std()\n",
    "sigB = barr.std()\n",
    "\n",
    "pl.errorbar(xvals, yvals, sigma, fmt='r.') \n",
    "pl.title(\"File Sizes on My HD\")\n",
    "pl.ylabel(\"log(count)\")\n",
    "pl.xlabel(\"log(size)\")\n",
    "pl.plot(xvals,ystar, 'g-')\n",
    "print(\"Slope=\", m, '+/-', sigM, \"(\", m-sigM,\",\",m+sigM, \")\")\n",
    "print(\"Intercept=\", b, '+/-', sigB, \"(\", b-db,\",\",b+sigB, \")\")\n",
    "\n",
    "print() # print a blank link\n",
    "print(\"Compare to cov-matrix for fun:\")\n",
    "print(\"sqsrt(pcov[0,0]) (should be sigma m)\", np.sqrt(pcov[0,0]))\n",
    "print(\"sqrt(pcov[1,1]) (should be sigma b)\", np.sqrt(pcov[1,1]))"
   ]
  },
  {
   "cell_type": "markdown",
   "metadata": {},
   "source": [
    "Project 7\n",
    "=========\n",
    "\n",
    "See this reference for other systems that exhibit power law behavior:\n",
    "\n",
    "<http://arxiv.org/abs/cond-mat/0412004>\n",
    "\n",
    "Or test your intuition and see if it's right. Many system exhibit this behavior!\n",
    "\n",
    "Get some data, and test your idea. Use the matrix technique to do the fitting."
   ]
  },
  {
   "cell_type": "markdown",
   "metadata": {},
   "source": [
    "Matrix Approach\n",
    "--------------------\n",
    "\n",
    "# WARNING: THE REST OF THIS NOTEBOOK IS OPTIONAL. YOU DO NOT NEED TO READ FURTHER UNLESS YOU ARE CURIOUS/INTERSTED IN THE INNER MACHINERY OF CURVE FITTING\n",
    "\n",
    "The remainder of this notebook details an approach to parameter estimation\n",
    "using matrices. If you're interested, you're welcome to use this approach to \n",
    "fit your data. It has the (minor) advantage that there are no \"black boxes\"\n",
    "like `curve_fit`. The underlying mathematics is open for your inspection! However\n",
    "it's also pretty mathematically \"heavy\" so, please use `curve_fit` if you prefer.\n"
   ]
  },
  {
   "cell_type": "markdown",
   "metadata": {},
   "source": [
    "Fitting Data with Matrices \n",
    "===========================\n",
    "\n",
    "We can see that we have something that looks like it might be a power law. How can we tell? We'll use \"linear least squares\" analysis.\n",
    "\n",
    "When fitting some experimental data to a model, there are typically\n",
    "a set of paramters $(\\alpha_1, \\alpha_2, \\ldots, \\alpha_n)$ that\n",
    "need to be found so that the function $\\chi^2$ is a minimum. \n",
    "We can think of the paramters as an n-vector called $\\alpha$. The\n",
    "data consist of a set of paired numbers $(x_i, y_i)$ and we can\n",
    "define $\\chi^2$ as \n",
    "\n",
    "\\begin{equation}\n",
    "\\chi^2 = \\sum_{i=1}^{m} {(y_i - y^\\star(x_i,\\alpha))^2\\over \\sigma_i^2},\n",
    "\\end{equation}\n",
    "\n",
    "where $\\sigma_i$ is the uncertainty in $y_i$, and $y^\\star$ is the\n",
    "model value corresponding to $x_i$ (and the value of the parameters\n",
    "$\\alpha$). If the model $y^\\star(x,\\vec\\alpha)$ is *linear* then we\n",
    "can write $y^\\star$ as:\n",
    "\n",
    "\\begin{equation}\n",
    "y^\\star (x) = \\alpha_1 X_1(x)+\\alpha_2 X_2(x)+\\ldots+\\alpha_n X_n(x).\n",
    "\\end{equation}\n",
    "\n",
    "or\n",
    "\n",
    "\\begin{equation}\n",
    "y^\\star(x) = \\sum_{j=1}^{n} \\alpha_j X_j(x),\n",
    "\\end{equation}\n",
    "\n",
    "where the $X_j$ are a set of functions that are to be superposed\n",
    "with coefficients $\\alpha_j$ to form the model. A common example\n",
    "of this would be a straight line fit $y^\\star(x) = mx+b$ where the\n",
    "functions are $x$ and 1 for the paramters $m$ and $b$ respectively.\n",
    "\n",
    "Notice that, since the $x$'s are at fixed measured values, this whole thing can be \n",
    "cast into a single matrix equation. If we define the following $M$ matrix:\n",
    "\n",
    "\\begin{equation}\n",
    "M_{ij} = X_j(x_i)\n",
    "\\end{equation}\n",
    "\n",
    "and if we think of $y^\\star$ as an $m$-vector of model \n",
    "values evaluated at the $m$ data points $x_i$ and $y$ as an \n",
    "experimental $m$-vector $y$, then the model vector\n",
    "can be evaluated by matrix multiplication as:\n",
    "\n",
    "\\begin{equation}\n",
    "y^\\star = M \\alpha\n",
    "\\end{equation}\n",
    "\n",
    "and the difference vector between the model and the data becomes simply\n",
    "\n",
    "\\begin{equation}\n",
    "y - y^\\star = y - M\\alpha\n",
    "\\end{equation}\n",
    "\n",
    "Finally we can write $\\chi^2$ as \n",
    "\n",
    "\\begin{equation}\n",
    "\\chi^2 = (y - M\\alpha)^T S (y - M\\alpha) \\,\\,\\,\\,\\,\\,\\,\\,(1)\n",
    "\\end{equation}\n",
    "\n",
    "where $S$ is a diagonal matrix of $1/\\sigma_i^2$ and\n",
    "the $T$ on the left side means \"transpose\".\n",
    "\n",
    "Now it is a simple matter to find the values of the paramters that\n",
    "minimize $\\chi^2$. We require that $\\nabla_{\\alpha}\\chi^2 = 0$. \n",
    "If you play around with this you can convince yourself that this means:\n",
    "\n",
    "\\begin{equation}\n",
    "M^T S(y - M\\alpha) = 0\n",
    "\\end{equation}\n",
    "\n",
    "and therefore:\n",
    "\n",
    "\\begin{equation}\n",
    "\\alpha = (M^T SM)^{-1}M^T S y.  \\,\\,\\,\\,\\,\\,\\,\\,(2)\n",
    "\\end{equation}"
   ]
  },
  {
   "cell_type": "code",
   "execution_count": 18,
   "metadata": {},
   "outputs": [
    {
     "data": {
      "text/plain": [
       "[<matplotlib.lines.Line2D at 0x12d247990>]"
      ]
     },
     "execution_count": 18,
     "metadata": {},
     "output_type": "execute_result"
    },
    {
     "data": {
      "image/png": "[encoded data removed]",
      "text/plain": [
       "<Figure size 432x288 with 1 Axes>"
      ]
     },
     "metadata": {
      "needs_background": "light"
     },
     "output_type": "display_data"
    }
   ],
   "source": [
    "#\n",
    "# define the function values (these are the columns of the \"M\" matrix\n",
    "#\n",
    "# generate arrays that contain \"functions\" of x that are combined to form the model\n",
    "#\n",
    "\n",
    "def doFit(funcs, xvals, yvals, sigma):\n",
    "    \"\"\"\n",
    "    doFit uses matrices to solve for the linear least squares \n",
    "    fit parameters based on the list of 'funcs', and the x-y values\n",
    "    and their corresponding uncertainties (sigma).\n",
    "    \n",
    "    returns the array of model parameters\n",
    "    \"\"\"\n",
    "    #\n",
    "    # define the S matrix in terms of uncertainties\n",
    "    #\n",
    "    \n",
    "    S=np.diag((1.0/sigma)**2)\n",
    "    \n",
    "    #\n",
    "    # define the model matrix\n",
    "    #\n",
    "    \n",
    "    M = np.array(funcs).T\n",
    "    MtM = M.T.dot(S.dot(M))\n",
    "    MtMInv = np.linalg.inv(MtM)\n",
    "    MtY = M.T.dot(S.dot(yvals))\n",
    "    alpha = MtMInv.dot(MtY)      # see eq 2 above.\n",
    "    \n",
    "    #\n",
    "    # solve for the parameters, and return\n",
    "    #\n",
    "    ystar = M.dot(alpha)\n",
    "    \n",
    "    return (alpha, ystar, MtMInv)\n",
    "\n",
    "fx1 = np.ones(len(xvals))   # X_1(x) = 1\n",
    "fx2 = xvals              # X_2(x) = x\n",
    "\n",
    "sigma=1.0/np.sqrt(np.abs(counts))\n",
    "\n",
    "alpha, ystar, fcov = doFit([fx1, fx2], xvals, yvals, sigma)\n",
    "\n",
    "mFit = alpha[1]\n",
    "bFit = alpha[0]\n",
    "\n",
    "pl.errorbar(xvals, yvals, sigma, fmt='r.') \n",
    "pl.title(\"File Sizes on My HD\")\n",
    "pl.ylabel(\"log(count)\")\n",
    "pl.xlabel(\"log(size)\")\n",
    "pl.plot(xvals,ystar, 'g-')\n"
   ]
  },
  {
   "cell_type": "code",
   "execution_count": 23,
   "metadata": {},
   "outputs": [
    {
     "name": "stdout",
     "output_type": "stream",
     "text": [
      "Slope= -0.40101297210387443 +/- 0.0069164777066884975 ( -0.40792944981056295 , -0.3940964943971859 )\n",
      "Intercept= 10.251110164592234 +/- 0.07947579449122216 ( 10.171634370101012 , 10.330585959083455 )\n",
      "Compare to cov-matrix for fun:\n",
      "sqsrt(cov[1,1]) (should be sigma m) 0.006919937608028965\n",
      "sqrt(cov[0,0]) (should be sigma b) 0.08007908396499791\n"
     ]
    }
   ],
   "source": [
    "#\n",
    "# Now do monte-carlo data fabrication and fit analysis\n",
    "#\n",
    "\n",
    "N=1000    # number of samples to take\n",
    "mList=[]  # keep track of monte-carlo fit parameters\n",
    "bList=[]\n",
    "\n",
    "for i in range(N):\n",
    "    \"\"\"\n",
    "    Generate mc data with the same statistical properties as the real data.\n",
    "    Repeat the fit for each set, and record the parameters.\n",
    "    \"\"\"\n",
    "    mcY = ystar + sigma*np.random.normal(size=len(xvals))\n",
    "    mcAlpha,mcYstar,mccov = doFit([fx1,fx2],xvals,mcY,sigma)   # repeatedly fit mc data\n",
    "    mList.append(mcAlpha[1])\n",
    "    bList.append(mcAlpha[0])\n",
    "    \n",
    "#\n",
    "# Compute the statistics of the mc-results\n",
    "#\n",
    "\n",
    "marr=np.array(mList)\n",
    "barr=np.array(bList)\n",
    "\n",
    "mAvg = marr.sum()/N\n",
    "bAvg = barr.sum()/N\n",
    "delM = marr-mAvg\n",
    "delB = barr-bAvg\n",
    "sigM = np.sqrt((delM*delM).sum()/(N-1))  # sigM is the std-deviation of the m values\n",
    "sigB = np.sqrt((delB*delB).sum()/(N-1))  # sigB is the std-deviation of the b values\n",
    "\n",
    "#\n",
    "# plot the fit\n",
    "#\n",
    "print(\"Slope=\", mFit, '+/-', sigM, \"(\", mFit - sigM,\",\",mFit + sigM, \")\")\n",
    "print(\"Intercept=\", bFit, '+/-', sigB, \"(\", bFit - sigB,\",\",bFit + sigB, \")\")\n",
    "\n",
    "#\n",
    "# Just for fun print out the diagonals of the covariance matrix.\n",
    "#\n",
    "print # print a blank link\n",
    "print(\"Compare to cov-matrix for fun:\")\n",
    "print(\"sqsrt(cov[1,1]) (should be sigma m)\", np.sqrt(fcov[1,1]))\n",
    "print(\"sqrt(cov[0,0]) (should be sigma b)\", np.sqrt(fcov[0,0]))\n"
   ]
  },
  {
   "cell_type": "code",
   "execution_count": 24,
   "metadata": {},
   "outputs": [
    {
     "name": "stdout",
     "output_type": "stream",
     "text": [
      "m average: -0.4009698835771972\n",
      "m sigma: 0.0069164777066884975\n"
     ]
    },
    {
     "data": {
      "image/png": "[encoded data removed]",
      "text/plain": [
       "<Figure size 432x288 with 1 Axes>"
      ]
     },
     "metadata": {
      "needs_background": "light"
     },
     "output_type": "display_data"
    }
   ],
   "source": [
    "pl.hist(marr) # look at the variation in \"m\" values\n",
    "print(\"m average:\", mAvg)\n",
    "print(\"m sigma:\",sigM)"
   ]
  },
  {
   "cell_type": "code",
   "execution_count": 25,
   "metadata": {},
   "outputs": [
    {
     "name": "stdout",
     "output_type": "stream",
     "text": [
      "b average: 10.250089828310378\n",
      "b sigma: 0.07947579449122216\n"
     ]
    },
    {
     "data": {
      "image/png": "[encoded data removed]",
      "text/plain": [
       "<Figure size 432x288 with 1 Axes>"
      ]
     },
     "metadata": {
      "needs_background": "light"
     },
     "output_type": "display_data"
    }
   ],
   "source": [
    "pl.hist(barr)  # look at the variation in \"b\" values\n",
    "print(\"b average:\", bAvg)\n",
    "print(\"b sigma:\",sigB)"
   ]
  },
  {
   "cell_type": "code",
   "execution_count": null,
   "metadata": {},
   "outputs": [],
   "source": []
  }
 ],
 "metadata": {
  "kernelspec": {
   "display_name": "Python 3",
   "language": "python",
   "name": "python3"
  },
  "language_info": {
   "codemirror_mode": {
    "name": "ipython",
    "version": 3
   },
   "file_extension": ".py",
   "mimetype": "text/x-python",
   "name": "python",
   "nbconvert_exporter": "python",
   "pygments_lexer": "ipython3",
   "version": "3.7.6"
  }
 },
 "nbformat": 4,
 "nbformat_minor": 1
}
