{
 "cells": [
  {
   "cell_type": "markdown",
   "metadata": {},
   "source": [
    "Estimating The Period of an Oscillator\n",
    "======================================\n",
    "\n",
    "This week we'll be investigating the period of a pendulum. This is a problem that has been studied for a *very* long time (e.g., one of earliest workers in the pendulum field was Galeleo himself!). However, most folks (e.g., physics students) just investigate the low amplitude behavior (when the angle between the pendulum and the vertical is pretty small, say 5 or 10 degrees). We are not going to satisfied with such a simple analysis! No, on the contrary, we'll be looking at how the period of the pendulum *varies* with amplitude. We could use the momentum principle as our startign point for this analsysis, as is usually done, but we're also going to be somewhat unconventional and work instead with the energy principle. Note that this same technique works with any non-linear oscilator (think resonance circuits in electronics, or lasers, or molecules). So, lots to learn! This project has two primary components:\n",
    "\n",
    "1. Integrating a function, that is not integrable, numerically so that it's integral can be used as part of the analysis of a problem. As we work out the exact expression for the period of a pendulum we'll encounter such a function and we'll integrate it numerically.\n",
    "    \n",
    "2. Applying our techniques from last week of fitting functions to data to extract very precise times from a video that we'll collect of the pendulum in motion. This will allow us to compare our analytical approximation and the numerical integral with actual data gathered from a real pendulum.\n",
    "\n",
    "Let's say we have a system with a potential energy given by some,\n",
    "possibly complex expression $U(x)$. For any system with position \n",
    "$x$ and a potential energy $U$ we have:\n",
    "\n",
    "\\begin{equation}\n",
    "E = {1 \\over 2}m\\left(\\frac{dx}{dt}\\right)^2 + U(x).\n",
    "\\end{equation}\n",
    "\n",
    "If we solve this for $dx/dt$ we get the result we want:\n",
    "\\begin{equation}\n",
    " \\frac{dx}{dt} = \\sqrt{2(E - U(x))/m}.\n",
    "\\end{equation}\n",
    " \n",
    "or, solving for $dt$ we get:\n",
    "\n",
    "\\begin{equation}\n",
    "dt = \\sqrt{m \\over 2 (E-U(x)) } dx.\n",
    "\\end{equation}\n",
    "\n",
    "If the system is bound we can get the time for one oscillation by\n",
    "integrating the time for one complete period! If the potential is symmetric\n",
    "with respect to $x$ then we only have to do 1/4 of a period and multiply\n",
    "by 4:\n",
    "\n",
    "\\begin{equation}\n",
    "T = 4 \\int_0^{x_{\\rm max}} \\sqrt{m \\over 2 (E-U(x)) } dx.\n",
    "\\end{equation}\n",
    "\n",
    "Let's apply this idea to the simple pendulum. Use this potential (and use polar coordinates!) to study the simple pendulum:\n",
    "\n",
    "\\begin{equation}\n",
    "U(\\theta) = -mgl {\\rm cos}(\\theta)\n",
    "\\end{equation}\n",
    "\n",
    "Use this idea to show that for small\n",
    "values of $\\theta_m$ the result is the same as we got in \n",
    "General Physics ($T = 2 \\pi \\sqrt{l/g}$). You can **watch the slides** for this lesson see how to carry out the expansion to the\n",
    "next order and find the second order correction to this result.\n",
    "To do the integral it helps to first use: ${\\rm cos}\\,\\theta = 1 - 2 {\\rm sin}^2\\,(\\theta/2)$ and a similar \n",
    "substitution for ${\\rm cos}\\,\\theta_m$. Then change variables to \n",
    "${\\rm sin}\\,\\phi = {\\rm sin}\\,(\\theta/2)/\n",
    "{\\rm sin}\\,(\\theta_m/2)$.Then expand in powers of $\\theta_m$ At the\n",
    "last step before expansion you should have:\n",
    "\n",
    "\\begin{equation}\n",
    "4 \\sqrt {l/g} \\int_0^{\\pi/2} {d\\phi \\over {\\sqrt{1 - \\sin^2\\phi \\sin^2{\\theta_m \\over 2}}}}\n",
    "\\end{equation}\n",
    "\n",
    "The integral here is called the \"Complete Elliptic Integral of the First Kind\". It's famous. It's impossible to do in closed form.\n",
    "\n",
    "However we can approximate it in several ways. First, we can evalutate the integral numerically (see Simpon's Rule below) or we can estimate the value of the integral by using a Taylor Expansion WRT a small parameter (in our case the amplitude of the pedulum) to get a series that gives us a correction to the simple theory. We'll do both of these things and comapare the results.\n",
    "\n",
    "Below is a simple python implementation of [Simpson's Rule.](https://en.wikipedia.org/wiki/Simpson's_rule).\n"
   ]
  },
  {
   "cell_type": "code",
   "execution_count": 1,
   "metadata": {},
   "outputs": [
    {
     "name": "stdout",
     "output_type": "stream",
     "text": [
      "Populating the interactive namespace from numpy and matplotlib\n"
     ]
    }
   ],
   "source": [
    "%pylab inline\n",
    "\n",
    "def simpson(f, a, b, N, args=None):\n",
    "    \"\"\"\n",
    "    Use Simpson's Rule to estimate an integral\n",
    "    \n",
    "    f: function to be integrated\n",
    "    a, b: lower, upper limits\n",
    "    N: \"half the number of samples\" to take.\n",
    "    args: list of additional arguments (besides 'x') for the function.\n",
    "    \"\"\"\n",
    "    if args is None:\n",
    "        args=[]\n",
    "    x=linspace(a,b,2*N)  # sample the function\n",
    "    h=(b-a)/(2*N-1)\n",
    "    y=f(*([x] +list(args)))\n",
    "    evens =  y[2:-2:2]\n",
    "    odds = y[1:-1:2]\n",
    "    return (y[0] + y[-1] + 2*odds.sum() + 4*evens.sum())*h/3.0\n",
    "\n",
    "def K_int(phi, m):\n",
    "    \"\"\"\n",
    "    Integrand for K(m,N) below. This defines the \n",
    "    \"Complete Elliptic Integral of the First Kind\".\n",
    "    \"\"\"\n",
    "    return 1.0/sqrt(1-m*sin(phi)**2)\n",
    "\n",
    "def K(m, N=1000):\n",
    "    \"\"\"\n",
    "    K(m,N) computes the:\n",
    "    \"Complete Elliptic Integral of the First Kind\"\n",
    "    with 2*N samples using the simple Simpson's Rule integrator above.\n",
    "    \"\"\"\n",
    "    return simpson(K_int, 0, pi/2, N=N, args=(m,))\n"
   ]
  },
  {
   "cell_type": "markdown",
   "metadata": {},
   "source": [
    "The `scipy.integrate` package has a number of numerical [integrators](https://docs.scipy.org/doc/scipy-0.18.1/reference/integrate.html) that you can study. For the purposes of this example we'll use `quad` which is a simple general purpose integrator. Let's compare that with the Simpson's Rule integrator above."
   ]
  },
  {
   "cell_type": "code",
   "execution_count": 2,
   "metadata": {},
   "outputs": [
    {
     "data": {
      "text/plain": [
       "<matplotlib.legend.Legend at 0x10ea99780>"
      ]
     },
     "execution_count": 2,
     "metadata": {},
     "output_type": "execute_result"
    },
    {
     "data": {
      "image/png": "[encoded data removed]",
      "text/plain": [
       "<Figure size 432x288 with 1 Axes>"
      ]
     },
     "metadata": {},
     "output_type": "display_data"
    }
   ],
   "source": [
    "#\n",
    "# scipy has an easy \"built in\" integration routine: integrate.quad\n",
    "# We'll use this as well for comparison.\n",
    "#\n",
    "\n",
    "from scipy.integrate import quad  # import a numerical integrator\n",
    "\n",
    "siList=[]  # scipy integrate.quad list\n",
    "saList=[]  # small angle list\n",
    "srList=[]  # Simpson's Rule, N=1000 list\n",
    "\n",
    "thetArr = linspace(0.0, 70, 150) # range of theta values\n",
    "\n",
    "for theta in thetArr:\n",
    "    thetaRad=theta*pi/180.0\n",
    "    m=sin(thetaRad/2.0)**2\n",
    "    simpresult = K(m)\n",
    "    quadResult = quad(K_int, 0, pi/2, args=(m,))\n",
    "    smallAngle = (pi/2)*(1.0+m/4)\n",
    "    srList.append(2*simpresult/pi)\n",
    "    siList.append(2*quadResult[0]/pi)\n",
    "    saList.append(2*smallAngle/pi)\n",
    "    \n",
    "title(\"Compare integration results (normalized)\")\n",
    "xlabel(\"$\\\\theta$\")\n",
    "ylabel(\"K(m)/K(0)\")\n",
    "\n",
    "plot(thetArr, srList, 'b-', label=\"Simpson's Rule (N=1000)\")\n",
    "plot(thetArr, siList, 'r-', label=\"scipy integrate.quad\")\n",
    "plot(thetArr, saList, 'g-', label=\"Small Angle\")\n",
    "legend(loc=2)"
   ]
  },
  {
   "cell_type": "markdown",
   "metadata": {},
   "source": [
    "Project 8, Version A\n",
    "==========\n",
    "\n",
    "For project 8 we'll take data from a simple pendulum. This year I plan to collect new data. We have enough students that we can divide and conquer to get a significant data set. If you wish to participate in `Version A` please let me know. From that data we'll get experimental values for period. I'd like you to compare those experimental results with a) The small angle analytical results and b) the exact theory using Simpson's Rule. You can find below example code that illustrates the idea. In your project you should show how you:\n",
    "\n",
    "1. Analyzed the data collected and contributed some data to the full data set\n",
    "2. Took at least one full cycle of low amplitude data (in the last few seconds of video) to get the right offset for the data you collected and to confirm the low amplitude graph.\n"
   ]
  },
  {
   "cell_type": "code",
   "execution_count": 3,
   "metadata": {},
   "outputs": [
    {
     "name": "stdout",
     "output_type": "stream",
     "text": [
      "Number of data points: 6\n",
      "fit parameters:track270.csv\n",
      "-----------------\n",
      "theta0: -70.64386803043298 +/- 0.06363121426365223\n",
      "alpha: 8.384606081664476\n",
      "t0 8.994985147019422 +/- 0.0007581024396897339\n",
      "K(sin^2(theta0/2) 1.7329560713599583\n"
     ]
    },
    {
     "data": {
      "text/plain": [
       "<matplotlib.legend.Legend at 0x10ec3e400>"
      ]
     },
     "execution_count": 3,
     "metadata": {},
     "output_type": "execute_result"
    },
    {
     "data": {
      "image/png": "[encoded data removed]",
      "text/plain": [
       "<Figure size 432x288 with 1 Axes>"
      ]
     },
     "metadata": {},
     "output_type": "display_data"
    }
   ],
   "source": [
    "#\n",
    "# This is an example of getting data out of a video with tracker.\n",
    "# Note that we can get the angle and the time with the same fit.\n",
    "# You could use a similar technique with shaft encoder data, or\n",
    "# you could simply fit large amplitude data with a cos/sin model\n",
    "# to get the period. Even though the overall fit will not be\n",
    "# good, the uncertainty in the period would be quite low.\n",
    "#\n",
    "\n",
    "import os\n",
    "import csv\n",
    "from scipy.optimize import curve_fit  # automated curve fitting\n",
    "\n",
    "def fQuad(t, theta0, alpha, t0):\n",
    "    \"\"\"\n",
    "    Use a quadratic to fit the angle vs. time\n",
    "    \"\"\"\n",
    "    return theta0 + alpha*(t-t0)**2\n",
    "\n",
    "fname = 'track270.csv'\n",
    "dataFile = open(os.path.join('p8-data',fname))\n",
    "reader = csv.reader(dataFile, delimiter=',')\n",
    "lineCnt=0\n",
    "tlist=[]\n",
    "xlist=[]\n",
    "ylist=[]\n",
    "thetaList=[]\n",
    "\n",
    "for line in reader:\n",
    "    if lineCnt in [0,1]:\n",
    "        pass\n",
    "    else:\n",
    "        try:\n",
    "            tlist.append(float(line[0]))\n",
    "            xlist.append(float(line[1]))  # tracker has x-y backwards for some reason.\n",
    "            ylist.append(float(line[2]))\n",
    "            thetaList.append(arctan2(ylist[-1],xlist[-1]))\n",
    "        except:\n",
    "            print(\"Ack!\", line)\n",
    "            \n",
    "    lineCnt+=1\n",
    "print(\"Number of data points:\", len(tlist))\n",
    "\n",
    "tarr=array(tlist)\n",
    "thArr=array(thetaList)\n",
    "\n",
    "sigTheta=0.18/58.0*ones(len(tarr)) # ~0.18 cm (1 pixel)  error, r~= 58cm\n",
    "\n",
    "thDeg=thArr*180/pi     # get theta array in degress for display\n",
    "\n",
    "theta0e = thArr.sum()/len(thArr)\n",
    "dt=tarr[1]-tarr[0]\n",
    "om0 = (thArr[1]-thArr[0])/dt\n",
    "omf = (thArr[-1]-thArr[-2])/dt\n",
    "alpha0e = (omf-om0)/(tarr[-1]-tarr[0])\n",
    "t0e = tarr.sum()/len(tarr)\n",
    "\n",
    "popt, pcov = curve_fit(fQuad, tarr, thArr, p0=(theta0e, alpha0e, t0e),sigma=sigTheta)\n",
    "\n",
    "theta0=popt[0]\n",
    "th0Deg=theta0*180.0/pi         # theta0 in degrees for display\n",
    "thErr=sqrt(pcov[0,0])*180.0/pi # theta0 error in degrees\n",
    "\n",
    "alpha=popt[1]\n",
    "t0=popt[2]\n",
    "t0Err=sqrt(pcov[2,2])\n",
    "\n",
    "print(\"fit parameters:\"+fname)\n",
    "print(\"-----------------\")\n",
    "print(\"theta0:\", th0Deg,\"+/-\",thErr)\n",
    "print(\"alpha:\", alpha)\n",
    "print(\"t0\", t0,\"+/-\",t0Err)\n",
    "print(\"K(sin^2(theta0/2)\", K(sin(theta0/2.0)**2)) # estimate elliptic integral\n",
    "\n",
    "tstar = linspace(tarr[0],tarr[-1],50)   # range of times for quadratic model\n",
    "ystar = fQuad(tstar, theta0, alpha, t0) # value of quadratic model\n",
    "trange = tarr[-1]-tarr[0]               # get range of times\n",
    "thRange = max(thDeg)-min(thDeg)      # range of displayed angles\n",
    "\n",
    "title(\"Data: \"+fname)\n",
    "xlabel(\"time(s)\")\n",
    "ylabel(\"angle(deg)\")\n",
    "errorbar(tarr, thArr*180/pi,fmt='b.',yerr=sigTheta*180.0/pi, label=\"theta\")\n",
    "plot(tstar, ystar*180/pi, 'r-', label=\"quad fit\")\n",
    "plot([tarr[0],tarr[-1]],[th0Deg,th0Deg],'k-')            # draw horiz. cross hair\n",
    "plot([t0,t0],[min(thDeg)-0.3*thRange,max(thDeg)],'k-')   # draw vertical cross hair\n",
    "legend()\n"
   ]
  },
  {
   "cell_type": "code",
   "execution_count": 4,
   "metadata": {},
   "outputs": [
    {
     "name": "stdout",
     "output_type": "stream",
     "text": [
      "56\n",
      "initial estimates\n",
      "-----------------\n",
      "omega0 4.1887902047863905\n",
      "A0 0.12217304763960307\n",
      "fit parameters\n",
      "-----------------\n",
      "A: -7.494460173587601\n",
      "omega: 4.1545157853236905 corrected period: 1.5107593646454929 s\n",
      "phi: 254.2906205754467\n",
      "offset: -1.155073987745629\n",
      "\n"
     ]
    },
    {
     "data": {
      "text/plain": [
       "<matplotlib.legend.Legend at 0x10ed21550>"
      ]
     },
     "execution_count": 4,
     "metadata": {},
     "output_type": "execute_result"
    },
    {
     "data": {
      "image/png": "[encoded data removed]",
      "text/plain": [
       "<Figure size 432x288 with 1 Axes>"
      ]
     },
     "metadata": {},
     "output_type": "display_data"
    }
   ],
   "source": [
    "def fPeriodic(t, A, omega, phi, offset):\n",
    "    \"\"\"\n",
    "    Use a quadratic to fit the angle vs. time\n",
    "    \"\"\"\n",
    "    return A*cos(omega*t + phi) + offset\n",
    "\n",
    "fname = 'track_full_lowamp.csv'\n",
    "dataFile = open(os.path.join('p8-data',fname))\n",
    "reader = csv.reader(dataFile, delimiter=',')\n",
    "lineCnt=0\n",
    "tlist=[]\n",
    "xlist=[]\n",
    "ylist=[]\n",
    "thetaList=[]\n",
    "\n",
    "for line in reader:\n",
    "    if lineCnt in [0,1]:\n",
    "        pass\n",
    "    else:\n",
    "        try:\n",
    "            tlist.append(float(line[0]))\n",
    "            xlist.append(float(line[1]))  # tracker has x-y backwards for some reason.\n",
    "            ylist.append(float(line[2]))\n",
    "            thetaList.append(arctan2(ylist[-1],xlist[-1]))\n",
    "        except:\n",
    "            print(\"Ack!\", line)\n",
    "            \n",
    "    lineCnt+=1\n",
    "print(len(tlist))\n",
    "\n",
    "tarr=array(tlist)\n",
    "thArr=array(thetaList)\n",
    "\n",
    "sigTheta=0.18/58.0*ones(len(tarr)) # ~0.18 cm (1 pixel)  error, r~= 58cm\n",
    "\n",
    "omega0 = 2*pi/(120.1-118.6)  # estimate omega (from the data)\n",
    "A0 = (6-(-8))*pi/360.0       # estimate Amplitude ((max-min)/2)*(pi/180)\n",
    "phi0 = 0                     # estimate phi  (just a guess)\n",
    "offset0 = 0.0                # estimate offset\n",
    "\n",
    "print(\"initial estimates\")\n",
    "print(\"-----------------\")\n",
    "print(\"omega0\", omega0)\n",
    "print(\"A0\", A0)\n",
    "\n",
    "popt, pcov = curve_fit(fPeriodic, tarr, thArr, p0=(A0, omega0, phi0, offset0),sigma=sigTheta)\n",
    "\n",
    "A=popt[0]\n",
    "omega=popt[1]\n",
    "phi=popt[2]\n",
    "offset=popt[3]\n",
    "T0 = (2*pi/omega)/(1+(A**2)/16)  # T0 corrected for amplitude effect\n",
    "\n",
    "print(\"fit parameters\")\n",
    "print(\"-----------------\")\n",
    "print(\"A:\", A*180.0/pi)\n",
    "print(\"omega:\", omega, \"corrected period:\", T0, \"s\")\n",
    "print(\"phi:\", phi*180.0/pi)\n",
    "print(\"offset:\", offset*180.0/pi)\n",
    "print()\n",
    "\n",
    "tstar = linspace(tarr[0],tarr[-1],50)\n",
    "ystar = fPeriodic(tstar, A, omega, phi, offset)\n",
    "\n",
    "title(\"Data: \"+fname)\n",
    "xlabel(\"time(s)\")\n",
    "ylabel(\"angle(deg)\")\n",
    "errorbar(tarr, thArr*180/pi, fmt='b.',yerr=sigTheta*180.0/pi, label=\"theta\")\n",
    "plot(tstar, ystar*180/pi, 'r-', label=\"quad fit\")\n",
    "legend()\n"
   ]
  },
  {
   "cell_type": "code",
   "execution_count": 5,
   "metadata": {},
   "outputs": [
    {
     "data": {
      "text/plain": [
       "<matplotlib.legend.Legend at 0x10ed91c18>"
      ]
     },
     "execution_count": 5,
     "metadata": {},
     "output_type": "execute_result"
    },
    {
     "data": {
      "image/png": "[encoded data removed]",
      "text/plain": [
       "<Figure size 432x288 with 1 Axes>"
      ]
     },
     "metadata": {},
     "output_type": "display_data"
    }
   ],
   "source": [
    "fname = 'raw-data.csv'\n",
    "dataFile = open(os.path.join('p8-data',fname))\n",
    "reader = csv.reader(dataFile, delimiter=',')\n",
    "lineCnt=0\n",
    "t1_list=[]\n",
    "t2_list=[]\n",
    "theta1_list=[]\n",
    "theta2_list=[]\n",
    "for line in reader:\n",
    "    if lineCnt in [0]:\n",
    "        pass\n",
    "    else:\n",
    "        try:\n",
    "            t1_list.append(float(line[1]))\n",
    "            theta1_list.append(float(line[2])*pi/180.0)  # convert to radians\n",
    "            t2_list.append(float(line[3]))\n",
    "            theta2_list.append(float(line[4])*pi/180.0)  # convert to radians\n",
    "        except:\n",
    "            print(\"Ack!\", line)\n",
    "            \n",
    "    lineCnt+=1\n",
    "\n",
    "N=len(t1_list)\n",
    "t1arr=array(t1_list)\n",
    "t2arr=array(t2_list)\n",
    "th1arr=array(theta1_list)+offset # theta 1 corrected for offset\n",
    "th2arr=array(theta2_list)+offset # theta 2 corrected for offset\n",
    "\n",
    "ratio = (t2arr-t1arr)/T0     # array of experimental periods devided by zero amplitude period\n",
    "thAvg = (th1arr+th2arr)/2.0\n",
    "\n",
    "vsaa = 1.0*ones(N)\n",
    "saa = 1.0+thAvg*thAvg/16\n",
    "sraList=[]\n",
    "for theta in thAvg:\n",
    "    sraList.append(2*K(sin(theta/2.0)**2)/pi)\n",
    "\n",
    "thDeg=thAvg*180/pi\n",
    "\n",
    "\n",
    "  # array of average amplitudes (in radians)\n",
    "\n",
    "title(\"Amplitude of a simple pendulum\")\n",
    "xlabel(\"$\\\\theta_{\\\\rm max}$ (degrees)\")\n",
    "ylabel(\"T/To\")\n",
    "axis([30,70,0.99,1.1])\n",
    "plot(thDeg, ratio,'b.', label=\"experiment\")\n",
    "plot(thDeg, saa, 'r-',label=\"small angle approx.\")\n",
    "plot(thDeg, vsaa, 'g-', label=\"very small angle approx.\")\n",
    "plot(thDeg, sraList, 'c-', label=\"exact theory\")\n",
    "legend(loc=2)"
   ]
  },
  {
   "cell_type": "markdown",
   "metadata": {
    "collapsed": true
   },
   "source": [
    "Project 8, Version B\n",
    "==========\n",
    "\n",
    "Find any application you like of numerical integration. Use either the Simpson's Rule integrator above, or one of the built-in scipy integrators (e.g., quad) to numerically evaluate the integral. Find some way to validate your code. Either take a simple case where you can compare to an analytical integration, or use \"real\" data to show that your code is producing something reasonable.\n",
    "\n",
    "\n"
   ]
  },
  {
   "cell_type": "code",
   "execution_count": null,
   "metadata": {},
   "outputs": [],
   "source": []
  }
 ],
 "metadata": {
  "kernelspec": {
   "display_name": "Python 3",
   "language": "python",
   "name": "python3"
  },
  "language_info": {
   "codemirror_mode": {
    "name": "ipython",
    "version": 3
   },
   "file_extension": ".py",
   "mimetype": "text/x-python",
   "name": "python",
   "nbconvert_exporter": "python",
   "pygments_lexer": "ipython3",
   "version": "3.6.5"
  }
 },
 "nbformat": 4,
 "nbformat_minor": 1
}
